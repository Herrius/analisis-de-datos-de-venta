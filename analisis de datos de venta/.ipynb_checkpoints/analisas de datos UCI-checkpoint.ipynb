{
 "cells": [
  {
   "metadata": {},
   "cell_type": "markdown",
   "source": "### Install the ucimlrepo package",
   "id": "c35e835c64da3c55"
  },
  {
   "cell_type": "code",
   "id": "initial_id",
   "metadata": {
    "collapsed": true,
    "ExecuteTime": {
     "end_time": "2024-08-01T16:45:10.098183Z",
     "start_time": "2024-08-01T16:44:37.996989Z"
    }
   },
   "source": "!pip install pandas matplotlib seaborn scikit-learn",
   "outputs": [
    {
     "name": "stdout",
     "output_type": "stream",
     "text": [
      "Requirement already satisfied: pandas in e:\\hd\\cursos\\aprendizaje de python\\analisis de datos de venta\\.venv\\lib\\site-packages (2.2.2)\n",
      "Collecting matplotlib\n",
      "  Downloading matplotlib-3.9.1-cp310-cp310-win_amd64.whl.metadata (11 kB)\n",
      "Collecting seaborn\n",
      "  Using cached seaborn-0.13.2-py3-none-any.whl.metadata (5.4 kB)\n",
      "Collecting scikit-learn\n",
      "  Downloading scikit_learn-1.5.1-cp310-cp310-win_amd64.whl.metadata (12 kB)\n",
      "Requirement already satisfied: numpy>=1.22.4 in e:\\hd\\cursos\\aprendizaje de python\\analisis de datos de venta\\.venv\\lib\\site-packages (from pandas) (2.0.1)\n",
      "Requirement already satisfied: python-dateutil>=2.8.2 in e:\\hd\\cursos\\aprendizaje de python\\analisis de datos de venta\\.venv\\lib\\site-packages (from pandas) (2.9.0.post0)\n",
      "Requirement already satisfied: pytz>=2020.1 in e:\\hd\\cursos\\aprendizaje de python\\analisis de datos de venta\\.venv\\lib\\site-packages (from pandas) (2024.1)\n",
      "Requirement already satisfied: tzdata>=2022.7 in e:\\hd\\cursos\\aprendizaje de python\\analisis de datos de venta\\.venv\\lib\\site-packages (from pandas) (2024.1)\n",
      "Collecting contourpy>=1.0.1 (from matplotlib)\n",
      "  Using cached contourpy-1.2.1-cp310-cp310-win_amd64.whl.metadata (5.8 kB)\n",
      "Collecting cycler>=0.10 (from matplotlib)\n",
      "  Using cached cycler-0.12.1-py3-none-any.whl.metadata (3.8 kB)\n",
      "Collecting fonttools>=4.22.0 (from matplotlib)\n",
      "  Downloading fonttools-4.53.1-cp310-cp310-win_amd64.whl.metadata (165 kB)\n",
      "     ---------------------------------------- 0.0/165.9 kB ? eta -:--:--\n",
      "     ------- ------------------------------- 30.7/165.9 kB 1.3 MB/s eta 0:00:01\n",
      "     ------------------------- ------------ 112.6/165.9 kB 1.3 MB/s eta 0:00:01\n",
      "     -------------------------------------- 165.9/165.9 kB 1.2 MB/s eta 0:00:00\n",
      "Collecting kiwisolver>=1.3.1 (from matplotlib)\n",
      "  Using cached kiwisolver-1.4.5-cp310-cp310-win_amd64.whl.metadata (6.5 kB)\n",
      "Requirement already satisfied: packaging>=20.0 in e:\\hd\\cursos\\aprendizaje de python\\analisis de datos de venta\\.venv\\lib\\site-packages (from matplotlib) (24.1)\n",
      "Collecting pillow>=8 (from matplotlib)\n",
      "  Using cached pillow-10.4.0-cp310-cp310-win_amd64.whl.metadata (9.3 kB)\n",
      "Collecting pyparsing>=2.3.1 (from matplotlib)\n",
      "  Using cached pyparsing-3.1.2-py3-none-any.whl.metadata (5.1 kB)\n",
      "Collecting scipy>=1.6.0 (from scikit-learn)\n",
      "  Using cached scipy-1.14.0-cp310-cp310-win_amd64.whl.metadata (60 kB)\n",
      "Collecting joblib>=1.2.0 (from scikit-learn)\n",
      "  Using cached joblib-1.4.2-py3-none-any.whl.metadata (5.4 kB)\n",
      "Collecting threadpoolctl>=3.1.0 (from scikit-learn)\n",
      "  Using cached threadpoolctl-3.5.0-py3-none-any.whl.metadata (13 kB)\n",
      "Requirement already satisfied: six>=1.5 in e:\\hd\\cursos\\aprendizaje de python\\analisis de datos de venta\\.venv\\lib\\site-packages (from python-dateutil>=2.8.2->pandas) (1.16.0)\n",
      "Downloading matplotlib-3.9.1-cp310-cp310-win_amd64.whl (8.0 MB)\n",
      "   ---------------------------------------- 0.0/8.0 MB ? eta -:--:--\n",
      "    --------------------------------------- 0.1/8.0 MB 6.8 MB/s eta 0:00:02\n",
      "   - -------------------------------------- 0.2/8.0 MB 2.9 MB/s eta 0:00:03\n",
      "   - -------------------------------------- 0.3/8.0 MB 2.3 MB/s eta 0:00:04\n",
      "   -- ------------------------------------- 0.5/8.0 MB 3.1 MB/s eta 0:00:03\n",
      "   ---- ----------------------------------- 0.9/8.0 MB 4.1 MB/s eta 0:00:02\n",
      "   ------ --------------------------------- 1.3/8.0 MB 4.9 MB/s eta 0:00:02\n",
      "   --------- ------------------------------ 1.8/8.0 MB 5.6 MB/s eta 0:00:02\n",
      "   ---------- ----------------------------- 2.1/8.0 MB 5.8 MB/s eta 0:00:02\n",
      "   ----------- ---------------------------- 2.2/8.0 MB 5.5 MB/s eta 0:00:02\n",
      "   ------------- -------------------------- 2.6/8.0 MB 5.6 MB/s eta 0:00:01\n",
      "   --------------- ------------------------ 3.1/8.0 MB 6.1 MB/s eta 0:00:01\n",
      "   ------------------ --------------------- 3.6/8.0 MB 6.4 MB/s eta 0:00:01\n",
      "   --------------------- ------------------ 4.2/8.0 MB 6.9 MB/s eta 0:00:01\n",
      "   ---------------------- ----------------- 4.6/8.0 MB 6.9 MB/s eta 0:00:01\n",
      "   ------------------------- -------------- 5.1/8.0 MB 7.3 MB/s eta 0:00:01\n",
      "   ---------------------------- ----------- 5.8/8.0 MB 7.7 MB/s eta 0:00:01\n",
      "   ------------------------------- -------- 6.4/8.0 MB 8.0 MB/s eta 0:00:01\n",
      "   ---------------------------------- ----- 6.9/8.0 MB 8.2 MB/s eta 0:00:01\n",
      "   ------------------------------------- -- 7.5/8.0 MB 8.4 MB/s eta 0:00:01\n",
      "   ---------------------------------------- 8.0/8.0 MB 8.5 MB/s eta 0:00:00\n",
      "Using cached seaborn-0.13.2-py3-none-any.whl (294 kB)\n",
      "Downloading scikit_learn-1.5.1-cp310-cp310-win_amd64.whl (11.0 MB)\n",
      "   ---------------------------------------- 0.0/11.0 MB ? eta -:--:--\n",
      "   - -------------------------------------- 0.5/11.0 MB 9.6 MB/s eta 0:00:02\n",
      "   --- ------------------------------------ 1.0/11.0 MB 11.0 MB/s eta 0:00:01\n",
      "   ------ --------------------------------- 1.7/11.0 MB 12.1 MB/s eta 0:00:01\n",
      "   -------- ------------------------------- 2.4/11.0 MB 12.5 MB/s eta 0:00:01\n",
      "   ---------- ----------------------------- 3.0/11.0 MB 12.8 MB/s eta 0:00:01\n",
      "   ------------- -------------------------- 3.6/11.0 MB 12.9 MB/s eta 0:00:01\n",
      "   --------------- ------------------------ 4.3/11.0 MB 13.1 MB/s eta 0:00:01\n",
      "   ------------------ --------------------- 5.0/11.0 MB 13.4 MB/s eta 0:00:01\n",
      "   --------------------- ------------------ 5.8/11.0 MB 13.8 MB/s eta 0:00:01\n",
      "   ------------------------ --------------- 6.7/11.0 MB 14.3 MB/s eta 0:00:01\n",
      "   --------------------------- ------------ 7.6/11.0 MB 14.7 MB/s eta 0:00:01\n",
      "   ------------------------------ --------- 8.4/11.0 MB 14.9 MB/s eta 0:00:01\n",
      "   -------------------------------- ------- 8.8/11.0 MB 14.8 MB/s eta 0:00:01\n",
      "   ---------------------------------- ----- 9.6/11.0 MB 15.0 MB/s eta 0:00:01\n",
      "   -------------------------------------- - 10.5/11.0 MB 15.6 MB/s eta 0:00:01\n",
      "   ---------------------------------------- 11.0/11.0 MB 15.2 MB/s eta 0:00:00\n",
      "Using cached contourpy-1.2.1-cp310-cp310-win_amd64.whl (187 kB)\n",
      "Using cached cycler-0.12.1-py3-none-any.whl (8.3 kB)\n",
      "Downloading fonttools-4.53.1-cp310-cp310-win_amd64.whl (2.2 MB)\n",
      "   ---------------------------------------- 0.0/2.2 MB ? eta -:--:--\n",
      "   -------------- ------------------------- 0.8/2.2 MB 25.4 MB/s eta 0:00:01\n",
      "   ------------------------------ --------- 1.7/2.2 MB 21.1 MB/s eta 0:00:01\n",
      "   ---------------------------------------  2.2/2.2 MB 17.5 MB/s eta 0:00:01\n",
      "   ---------------------------------------- 2.2/2.2 MB 15.7 MB/s eta 0:00:00\n",
      "Using cached joblib-1.4.2-py3-none-any.whl (301 kB)\n",
      "Using cached kiwisolver-1.4.5-cp310-cp310-win_amd64.whl (56 kB)\n",
      "Using cached pillow-10.4.0-cp310-cp310-win_amd64.whl (2.6 MB)\n",
      "Using cached pyparsing-3.1.2-py3-none-any.whl (103 kB)\n",
      "Using cached scipy-1.14.0-cp310-cp310-win_amd64.whl (44.8 MB)\n",
      "Using cached threadpoolctl-3.5.0-py3-none-any.whl (18 kB)\n",
      "Installing collected packages: threadpoolctl, scipy, pyparsing, pillow, kiwisolver, joblib, fonttools, cycler, contourpy, scikit-learn, matplotlib, seaborn\n",
      "Successfully installed contourpy-1.2.1 cycler-0.12.1 fonttools-4.53.1 joblib-1.4.2 kiwisolver-1.4.5 matplotlib-3.9.1 pillow-10.4.0 pyparsing-3.1.2 scikit-learn-1.5.1 scipy-1.14.0 seaborn-0.13.2 threadpoolctl-3.5.0\n"
     ]
    },
    {
     "name": "stderr",
     "output_type": "stream",
     "text": [
      "\n",
      "[notice] A new release of pip is available: 23.3.1 -> 24.2\n",
      "[notice] To update, run: python.exe -m pip install --upgrade pip\n"
     ]
    }
   ],
   "execution_count": 3
  },
  {
   "metadata": {},
   "cell_type": "markdown",
   "source": "### Import the dataset into your code",
   "id": "63306eecf59c7579"
  },
  {
   "metadata": {},
   "cell_type": "code",
   "outputs": [
    {
     "ename": "ImportError",
     "evalue": "Missing optional dependency 'openpyxl'.  Use pip or conda to install openpyxl.",
     "output_type": "error",
     "traceback": [
      "\u001B[1;31m---------------------------------------------------------------------------\u001B[0m",
      "\u001B[1;31mModuleNotFoundError\u001B[0m                       Traceback (most recent call last)",
      "File \u001B[1;32mE:\\HD\\cursos\\aprendizaje de python\\analisis de datos de venta\\.venv\\lib\\site-packages\\pandas\\compat\\_optional.py:135\u001B[0m, in \u001B[0;36mimport_optional_dependency\u001B[1;34m(name, extra, errors, min_version)\u001B[0m\n\u001B[0;32m    134\u001B[0m \u001B[38;5;28;01mtry\u001B[39;00m:\n\u001B[1;32m--> 135\u001B[0m     module \u001B[38;5;241m=\u001B[39m \u001B[43mimportlib\u001B[49m\u001B[38;5;241;43m.\u001B[39;49m\u001B[43mimport_module\u001B[49m\u001B[43m(\u001B[49m\u001B[43mname\u001B[49m\u001B[43m)\u001B[49m\n\u001B[0;32m    136\u001B[0m \u001B[38;5;28;01mexcept\u001B[39;00m \u001B[38;5;167;01mImportError\u001B[39;00m:\n",
      "File \u001B[1;32mC:\\Program Files\\WindowsApps\\PythonSoftwareFoundation.Python.3.10_3.10.3056.0_x64__qbz5n2kfra8p0\\lib\\importlib\\__init__.py:126\u001B[0m, in \u001B[0;36mimport_module\u001B[1;34m(name, package)\u001B[0m\n\u001B[0;32m    125\u001B[0m         level \u001B[38;5;241m+\u001B[39m\u001B[38;5;241m=\u001B[39m \u001B[38;5;241m1\u001B[39m\n\u001B[1;32m--> 126\u001B[0m \u001B[38;5;28;01mreturn\u001B[39;00m \u001B[43m_bootstrap\u001B[49m\u001B[38;5;241;43m.\u001B[39;49m\u001B[43m_gcd_import\u001B[49m\u001B[43m(\u001B[49m\u001B[43mname\u001B[49m\u001B[43m[\u001B[49m\u001B[43mlevel\u001B[49m\u001B[43m:\u001B[49m\u001B[43m]\u001B[49m\u001B[43m,\u001B[49m\u001B[43m \u001B[49m\u001B[43mpackage\u001B[49m\u001B[43m,\u001B[49m\u001B[43m \u001B[49m\u001B[43mlevel\u001B[49m\u001B[43m)\u001B[49m\n",
      "File \u001B[1;32m<frozen importlib._bootstrap>:1050\u001B[0m, in \u001B[0;36m_gcd_import\u001B[1;34m(name, package, level)\u001B[0m\n",
      "File \u001B[1;32m<frozen importlib._bootstrap>:1027\u001B[0m, in \u001B[0;36m_find_and_load\u001B[1;34m(name, import_)\u001B[0m\n",
      "File \u001B[1;32m<frozen importlib._bootstrap>:1004\u001B[0m, in \u001B[0;36m_find_and_load_unlocked\u001B[1;34m(name, import_)\u001B[0m\n",
      "\u001B[1;31mModuleNotFoundError\u001B[0m: No module named 'openpyxl'",
      "\nDuring handling of the above exception, another exception occurred:\n",
      "\u001B[1;31mImportError\u001B[0m                               Traceback (most recent call last)",
      "Cell \u001B[1;32mIn[22], line 9\u001B[0m\n\u001B[0;32m      7\u001B[0m \u001B[38;5;66;03m# Cargar el conjunto de datos desde una URL directa (asegúrate de tener la URL correcta del archivo Excel o CSV)\u001B[39;00m\n\u001B[0;32m      8\u001B[0m url \u001B[38;5;241m=\u001B[39m \u001B[38;5;124m\"\u001B[39m\u001B[38;5;124mhttps://archive.ics.uci.edu/ml/machine-learning-databases/00352/Online\u001B[39m\u001B[38;5;124m%\u001B[39m\u001B[38;5;124m20Retail.xlsx\u001B[39m\u001B[38;5;124m\"\u001B[39m\n\u001B[1;32m----> 9\u001B[0m data \u001B[38;5;241m=\u001B[39m \u001B[43mpd\u001B[49m\u001B[38;5;241;43m.\u001B[39;49m\u001B[43mread_excel\u001B[49m\u001B[43m(\u001B[49m\u001B[43murl\u001B[49m\u001B[43m)\u001B[49m\n",
      "File \u001B[1;32mE:\\HD\\cursos\\aprendizaje de python\\analisis de datos de venta\\.venv\\lib\\site-packages\\pandas\\io\\excel\\_base.py:495\u001B[0m, in \u001B[0;36mread_excel\u001B[1;34m(io, sheet_name, header, names, index_col, usecols, dtype, engine, converters, true_values, false_values, skiprows, nrows, na_values, keep_default_na, na_filter, verbose, parse_dates, date_parser, date_format, thousands, decimal, comment, skipfooter, storage_options, dtype_backend, engine_kwargs)\u001B[0m\n\u001B[0;32m    493\u001B[0m \u001B[38;5;28;01mif\u001B[39;00m \u001B[38;5;129;01mnot\u001B[39;00m \u001B[38;5;28misinstance\u001B[39m(io, ExcelFile):\n\u001B[0;32m    494\u001B[0m     should_close \u001B[38;5;241m=\u001B[39m \u001B[38;5;28;01mTrue\u001B[39;00m\n\u001B[1;32m--> 495\u001B[0m     io \u001B[38;5;241m=\u001B[39m \u001B[43mExcelFile\u001B[49m\u001B[43m(\u001B[49m\n\u001B[0;32m    496\u001B[0m \u001B[43m        \u001B[49m\u001B[43mio\u001B[49m\u001B[43m,\u001B[49m\n\u001B[0;32m    497\u001B[0m \u001B[43m        \u001B[49m\u001B[43mstorage_options\u001B[49m\u001B[38;5;241;43m=\u001B[39;49m\u001B[43mstorage_options\u001B[49m\u001B[43m,\u001B[49m\n\u001B[0;32m    498\u001B[0m \u001B[43m        \u001B[49m\u001B[43mengine\u001B[49m\u001B[38;5;241;43m=\u001B[39;49m\u001B[43mengine\u001B[49m\u001B[43m,\u001B[49m\n\u001B[0;32m    499\u001B[0m \u001B[43m        \u001B[49m\u001B[43mengine_kwargs\u001B[49m\u001B[38;5;241;43m=\u001B[39;49m\u001B[43mengine_kwargs\u001B[49m\u001B[43m,\u001B[49m\n\u001B[0;32m    500\u001B[0m \u001B[43m    \u001B[49m\u001B[43m)\u001B[49m\n\u001B[0;32m    501\u001B[0m \u001B[38;5;28;01melif\u001B[39;00m engine \u001B[38;5;129;01mand\u001B[39;00m engine \u001B[38;5;241m!=\u001B[39m io\u001B[38;5;241m.\u001B[39mengine:\n\u001B[0;32m    502\u001B[0m     \u001B[38;5;28;01mraise\u001B[39;00m \u001B[38;5;167;01mValueError\u001B[39;00m(\n\u001B[0;32m    503\u001B[0m         \u001B[38;5;124m\"\u001B[39m\u001B[38;5;124mEngine should not be specified when passing \u001B[39m\u001B[38;5;124m\"\u001B[39m\n\u001B[0;32m    504\u001B[0m         \u001B[38;5;124m\"\u001B[39m\u001B[38;5;124man ExcelFile - ExcelFile already has the engine set\u001B[39m\u001B[38;5;124m\"\u001B[39m\n\u001B[0;32m    505\u001B[0m     )\n",
      "File \u001B[1;32mE:\\HD\\cursos\\aprendizaje de python\\analisis de datos de venta\\.venv\\lib\\site-packages\\pandas\\io\\excel\\_base.py:1567\u001B[0m, in \u001B[0;36mExcelFile.__init__\u001B[1;34m(self, path_or_buffer, engine, storage_options, engine_kwargs)\u001B[0m\n\u001B[0;32m   1564\u001B[0m \u001B[38;5;28mself\u001B[39m\u001B[38;5;241m.\u001B[39mengine \u001B[38;5;241m=\u001B[39m engine\n\u001B[0;32m   1565\u001B[0m \u001B[38;5;28mself\u001B[39m\u001B[38;5;241m.\u001B[39mstorage_options \u001B[38;5;241m=\u001B[39m storage_options\n\u001B[1;32m-> 1567\u001B[0m \u001B[38;5;28mself\u001B[39m\u001B[38;5;241m.\u001B[39m_reader \u001B[38;5;241m=\u001B[39m \u001B[38;5;28;43mself\u001B[39;49m\u001B[38;5;241;43m.\u001B[39;49m\u001B[43m_engines\u001B[49m\u001B[43m[\u001B[49m\u001B[43mengine\u001B[49m\u001B[43m]\u001B[49m\u001B[43m(\u001B[49m\n\u001B[0;32m   1568\u001B[0m \u001B[43m    \u001B[49m\u001B[38;5;28;43mself\u001B[39;49m\u001B[38;5;241;43m.\u001B[39;49m\u001B[43m_io\u001B[49m\u001B[43m,\u001B[49m\n\u001B[0;32m   1569\u001B[0m \u001B[43m    \u001B[49m\u001B[43mstorage_options\u001B[49m\u001B[38;5;241;43m=\u001B[39;49m\u001B[43mstorage_options\u001B[49m\u001B[43m,\u001B[49m\n\u001B[0;32m   1570\u001B[0m \u001B[43m    \u001B[49m\u001B[43mengine_kwargs\u001B[49m\u001B[38;5;241;43m=\u001B[39;49m\u001B[43mengine_kwargs\u001B[49m\u001B[43m,\u001B[49m\n\u001B[0;32m   1571\u001B[0m \u001B[43m\u001B[49m\u001B[43m)\u001B[49m\n",
      "File \u001B[1;32mE:\\HD\\cursos\\aprendizaje de python\\analisis de datos de venta\\.venv\\lib\\site-packages\\pandas\\io\\excel\\_openpyxl.py:552\u001B[0m, in \u001B[0;36mOpenpyxlReader.__init__\u001B[1;34m(self, filepath_or_buffer, storage_options, engine_kwargs)\u001B[0m\n\u001B[0;32m    534\u001B[0m \u001B[38;5;129m@doc\u001B[39m(storage_options\u001B[38;5;241m=\u001B[39m_shared_docs[\u001B[38;5;124m\"\u001B[39m\u001B[38;5;124mstorage_options\u001B[39m\u001B[38;5;124m\"\u001B[39m])\n\u001B[0;32m    535\u001B[0m \u001B[38;5;28;01mdef\u001B[39;00m \u001B[38;5;21m__init__\u001B[39m(\n\u001B[0;32m    536\u001B[0m     \u001B[38;5;28mself\u001B[39m,\n\u001B[1;32m   (...)\u001B[0m\n\u001B[0;32m    539\u001B[0m     engine_kwargs: \u001B[38;5;28mdict\u001B[39m \u001B[38;5;241m|\u001B[39m \u001B[38;5;28;01mNone\u001B[39;00m \u001B[38;5;241m=\u001B[39m \u001B[38;5;28;01mNone\u001B[39;00m,\n\u001B[0;32m    540\u001B[0m ) \u001B[38;5;241m-\u001B[39m\u001B[38;5;241m>\u001B[39m \u001B[38;5;28;01mNone\u001B[39;00m:\n\u001B[0;32m    541\u001B[0m \u001B[38;5;250m    \u001B[39m\u001B[38;5;124;03m\"\"\"\u001B[39;00m\n\u001B[0;32m    542\u001B[0m \u001B[38;5;124;03m    Reader using openpyxl engine.\u001B[39;00m\n\u001B[0;32m    543\u001B[0m \n\u001B[1;32m   (...)\u001B[0m\n\u001B[0;32m    550\u001B[0m \u001B[38;5;124;03m        Arbitrary keyword arguments passed to excel engine.\u001B[39;00m\n\u001B[0;32m    551\u001B[0m \u001B[38;5;124;03m    \"\"\"\u001B[39;00m\n\u001B[1;32m--> 552\u001B[0m     \u001B[43mimport_optional_dependency\u001B[49m\u001B[43m(\u001B[49m\u001B[38;5;124;43m\"\u001B[39;49m\u001B[38;5;124;43mopenpyxl\u001B[39;49m\u001B[38;5;124;43m\"\u001B[39;49m\u001B[43m)\u001B[49m\n\u001B[0;32m    553\u001B[0m     \u001B[38;5;28msuper\u001B[39m()\u001B[38;5;241m.\u001B[39m\u001B[38;5;21m__init__\u001B[39m(\n\u001B[0;32m    554\u001B[0m         filepath_or_buffer,\n\u001B[0;32m    555\u001B[0m         storage_options\u001B[38;5;241m=\u001B[39mstorage_options,\n\u001B[0;32m    556\u001B[0m         engine_kwargs\u001B[38;5;241m=\u001B[39mengine_kwargs,\n\u001B[0;32m    557\u001B[0m     )\n",
      "File \u001B[1;32mE:\\HD\\cursos\\aprendizaje de python\\analisis de datos de venta\\.venv\\lib\\site-packages\\pandas\\compat\\_optional.py:138\u001B[0m, in \u001B[0;36mimport_optional_dependency\u001B[1;34m(name, extra, errors, min_version)\u001B[0m\n\u001B[0;32m    136\u001B[0m \u001B[38;5;28;01mexcept\u001B[39;00m \u001B[38;5;167;01mImportError\u001B[39;00m:\n\u001B[0;32m    137\u001B[0m     \u001B[38;5;28;01mif\u001B[39;00m errors \u001B[38;5;241m==\u001B[39m \u001B[38;5;124m\"\u001B[39m\u001B[38;5;124mraise\u001B[39m\u001B[38;5;124m\"\u001B[39m:\n\u001B[1;32m--> 138\u001B[0m         \u001B[38;5;28;01mraise\u001B[39;00m \u001B[38;5;167;01mImportError\u001B[39;00m(msg)\n\u001B[0;32m    139\u001B[0m     \u001B[38;5;28;01mreturn\u001B[39;00m \u001B[38;5;28;01mNone\u001B[39;00m\n\u001B[0;32m    141\u001B[0m \u001B[38;5;66;03m# Handle submodules: if we have submodule, grab parent module from sys.modules\u001B[39;00m\n",
      "\u001B[1;31mImportError\u001B[0m: Missing optional dependency 'openpyxl'.  Use pip or conda to install openpyxl."
     ]
    }
   ],
   "execution_count": 22,
   "source": [
    "from ucimlrepo import fetch_ucirepo \n",
    "import pandas as pd\n",
    "import matplotlib.pyplot as plt\n",
    "import seaborn as sns\n",
    "import datetime as dt\n",
    "\n",
    "# Cargar el conjunto de datos desde UCI Machine Learning Repository\n",
    "online_retail = fetch_ucirepo(id=352)\n",
    "\n",
    "# Datos como DataFrame de Pandas\n",
    "data = online_retail.data.features"
   ],
   "id": "468bd982a6a7b5f0"
  },
  {
   "metadata": {},
   "cell_type": "markdown",
   "source": "### Datos generales del dataset",
   "id": "5551cb234b0445e7"
  },
  {
   "metadata": {
    "ExecuteTime": {
     "end_time": "2024-08-01T17:34:33.778100Z",
     "start_time": "2024-08-01T17:34:33.760104Z"
    }
   },
   "cell_type": "code",
   "source": "online_retail.metadata",
   "id": "e757b2ac0a8939",
   "outputs": [
    {
     "data": {
      "text/plain": [
       "{'uci_id': 352,\n",
       " 'name': 'Online Retail',\n",
       " 'repository_url': 'https://archive.ics.uci.edu/dataset/352/online+retail',\n",
       " 'data_url': 'https://archive.ics.uci.edu/static/public/352/data.csv',\n",
       " 'abstract': 'This is a transnational data set which contains all the transactions occurring between 01/12/2010 and 09/12/2011 for a UK-based and registered non-store online retail.',\n",
       " 'area': 'Business',\n",
       " 'tasks': ['Classification', 'Clustering'],\n",
       " 'characteristics': ['Multivariate', 'Sequential', 'Time-Series'],\n",
       " 'num_instances': 541909,\n",
       " 'num_features': 6,\n",
       " 'feature_types': ['Integer', 'Real'],\n",
       " 'demographics': [],\n",
       " 'target_col': None,\n",
       " 'index_col': ['InvoiceNo', 'StockCode'],\n",
       " 'has_missing_values': 'no',\n",
       " 'missing_values_symbol': None,\n",
       " 'year_of_dataset_creation': 2015,\n",
       " 'last_updated': 'Fri Jan 05 2024',\n",
       " 'dataset_doi': '10.24432/C5BW33',\n",
       " 'creators': ['Daqing Chen'],\n",
       " 'intro_paper': {'title': 'Data mining for the online retail industry: A case study of RFM model-based customer segmentation using data mining',\n",
       "  'authors': 'Daqing Chen, Sai Laing Sain, Kun Guo',\n",
       "  'published_in': 'Journal of Database Marketing and Customer Strategy Management, Vol. 19, No. 3',\n",
       "  'year': 2012,\n",
       "  'url': 'https://www.semanticscholar.org/paper/e43a5a90fa33d419df42e485099f8f08badf2149',\n",
       "  'doi': '10.1057/dbm.2012.17'},\n",
       " 'additional_info': {'summary': 'This is a transnational data set which contains all the transactions occurring between 01/12/2010 and 09/12/2011 for a UK-based and registered non-store online retail.The company mainly sells unique all-occasion gifts. Many customers of the company are wholesalers.',\n",
       "  'purpose': None,\n",
       "  'funded_by': None,\n",
       "  'instances_represent': None,\n",
       "  'recommended_data_splits': None,\n",
       "  'sensitive_data': None,\n",
       "  'preprocessing_description': None,\n",
       "  'variable_info': \"InvoiceNo: Invoice number. Nominal, a 6-digit integral number uniquely assigned to each transaction. If this code starts with letter 'c', it indicates a cancellation. \\nStockCode: Product (item) code. Nominal, a 5-digit integral number uniquely assigned to each distinct product.\\nDescription: Product (item) name. Nominal.\\nQuantity: The quantities of each product (item) per transaction. Numeric.\\t\\nInvoiceDate: Invoice Date and time. Numeric, the day and time when each transaction was generated.\\nUnitPrice: Unit price. Numeric, Product price per unit in sterling.\\nCustomerID: Customer number. Nominal, a 5-digit integral number uniquely assigned to each customer.\\nCountry: Country name. Nominal, the name of the country where each customer resides. \",\n",
       "  'citation': None}}"
      ]
     },
     "execution_count": 33,
     "metadata": {},
     "output_type": "execute_result"
    }
   ],
   "execution_count": 33
  },
  {
   "metadata": {
    "ExecuteTime": {
     "end_time": "2024-08-01T17:34:28.999780Z",
     "start_time": "2024-08-01T17:34:28.987781Z"
    }
   },
   "cell_type": "code",
   "source": "online_retail.variables",
   "id": "15ada30fe2033c96",
   "outputs": [
    {
     "data": {
      "text/plain": [
       "          name     role         type demographic  \\\n",
       "0    InvoiceNo       ID  Categorical        None   \n",
       "1    StockCode       ID  Categorical        None   \n",
       "2  Description  Feature  Categorical        None   \n",
       "3     Quantity  Feature      Integer        None   \n",
       "4  InvoiceDate  Feature         Date        None   \n",
       "5    UnitPrice  Feature   Continuous        None   \n",
       "6   CustomerID  Feature  Categorical        None   \n",
       "7      Country  Feature  Categorical        None   \n",
       "\n",
       "                                         description     units missing_values  \n",
       "0  a 6-digit integral number uniquely assigned to...      None             no  \n",
       "1  a 5-digit integral number uniquely assigned to...      None             no  \n",
       "2                                       product name      None             no  \n",
       "3  the quantities of each product (item) per tran...      None             no  \n",
       "4  the day and time when each transaction was gen...      None             no  \n",
       "5                             product price per unit  sterling             no  \n",
       "6  a 5-digit integral number uniquely assigned to...      None             no  \n",
       "7  the name of the country where each customer re...      None             no  "
      ],
      "text/html": [
       "<div>\n",
       "<style scoped>\n",
       "    .dataframe tbody tr th:only-of-type {\n",
       "        vertical-align: middle;\n",
       "    }\n",
       "\n",
       "    .dataframe tbody tr th {\n",
       "        vertical-align: top;\n",
       "    }\n",
       "\n",
       "    .dataframe thead th {\n",
       "        text-align: right;\n",
       "    }\n",
       "</style>\n",
       "<table border=\"1\" class=\"dataframe\">\n",
       "  <thead>\n",
       "    <tr style=\"text-align: right;\">\n",
       "      <th></th>\n",
       "      <th>name</th>\n",
       "      <th>role</th>\n",
       "      <th>type</th>\n",
       "      <th>demographic</th>\n",
       "      <th>description</th>\n",
       "      <th>units</th>\n",
       "      <th>missing_values</th>\n",
       "    </tr>\n",
       "  </thead>\n",
       "  <tbody>\n",
       "    <tr>\n",
       "      <th>0</th>\n",
       "      <td>InvoiceNo</td>\n",
       "      <td>ID</td>\n",
       "      <td>Categorical</td>\n",
       "      <td>None</td>\n",
       "      <td>a 6-digit integral number uniquely assigned to...</td>\n",
       "      <td>None</td>\n",
       "      <td>no</td>\n",
       "    </tr>\n",
       "    <tr>\n",
       "      <th>1</th>\n",
       "      <td>StockCode</td>\n",
       "      <td>ID</td>\n",
       "      <td>Categorical</td>\n",
       "      <td>None</td>\n",
       "      <td>a 5-digit integral number uniquely assigned to...</td>\n",
       "      <td>None</td>\n",
       "      <td>no</td>\n",
       "    </tr>\n",
       "    <tr>\n",
       "      <th>2</th>\n",
       "      <td>Description</td>\n",
       "      <td>Feature</td>\n",
       "      <td>Categorical</td>\n",
       "      <td>None</td>\n",
       "      <td>product name</td>\n",
       "      <td>None</td>\n",
       "      <td>no</td>\n",
       "    </tr>\n",
       "    <tr>\n",
       "      <th>3</th>\n",
       "      <td>Quantity</td>\n",
       "      <td>Feature</td>\n",
       "      <td>Integer</td>\n",
       "      <td>None</td>\n",
       "      <td>the quantities of each product (item) per tran...</td>\n",
       "      <td>None</td>\n",
       "      <td>no</td>\n",
       "    </tr>\n",
       "    <tr>\n",
       "      <th>4</th>\n",
       "      <td>InvoiceDate</td>\n",
       "      <td>Feature</td>\n",
       "      <td>Date</td>\n",
       "      <td>None</td>\n",
       "      <td>the day and time when each transaction was gen...</td>\n",
       "      <td>None</td>\n",
       "      <td>no</td>\n",
       "    </tr>\n",
       "    <tr>\n",
       "      <th>5</th>\n",
       "      <td>UnitPrice</td>\n",
       "      <td>Feature</td>\n",
       "      <td>Continuous</td>\n",
       "      <td>None</td>\n",
       "      <td>product price per unit</td>\n",
       "      <td>sterling</td>\n",
       "      <td>no</td>\n",
       "    </tr>\n",
       "    <tr>\n",
       "      <th>6</th>\n",
       "      <td>CustomerID</td>\n",
       "      <td>Feature</td>\n",
       "      <td>Categorical</td>\n",
       "      <td>None</td>\n",
       "      <td>a 5-digit integral number uniquely assigned to...</td>\n",
       "      <td>None</td>\n",
       "      <td>no</td>\n",
       "    </tr>\n",
       "    <tr>\n",
       "      <th>7</th>\n",
       "      <td>Country</td>\n",
       "      <td>Feature</td>\n",
       "      <td>Categorical</td>\n",
       "      <td>None</td>\n",
       "      <td>the name of the country where each customer re...</td>\n",
       "      <td>None</td>\n",
       "      <td>no</td>\n",
       "    </tr>\n",
       "  </tbody>\n",
       "</table>\n",
       "</div>"
      ]
     },
     "execution_count": 32,
     "metadata": {},
     "output_type": "execute_result"
    }
   ],
   "execution_count": 32
  },
  {
   "metadata": {},
   "cell_type": "markdown",
   "source": "### Inspeccion del dataset",
   "id": "2c948adcefb283b1"
  },
  {
   "metadata": {
    "ExecuteTime": {
     "end_time": "2024-08-01T17:34:23.440287Z",
     "start_time": "2024-08-01T17:34:23.411288Z"
    }
   },
   "cell_type": "code",
   "source": [
    "# Ahora puedes trabajar con 'data' como con cualquier DataFrame de Pandas\n",
    "data.sample(10)# Mostrar las primeras filas del DataFrame"
   ],
   "id": "745d036ace9e1460",
   "outputs": [
    {
     "data": {
      "text/plain": [
       "                            Description  Quantity       InvoiceDate  \\\n",
       "297416          RED VINTAGE SPOT BEAKER         8    8/11/2011 9:34   \n",
       "501092  CHILDRENS APRON SPACEBOY DESIGN         2  11/25/2011 13:47   \n",
       "47030       4 VANILLA BOTANICAL CANDLES        12    1/6/2011 16:41   \n",
       "375304             TOAST ITS - BEST MUM         1   10/4/2011 11:29   \n",
       "28744        RETRO COFFEE MUGS ASSORTED        30  12/13/2010 15:20   \n",
       "14951         ALARM CLOCK BAKELIKE PINK         4   12/7/2010 14:57   \n",
       "310828       RIBBON REEL HEARTS DESIGN         10    8/24/2011 8:09   \n",
       "161742     SMALL MARSHMALLOWS PINK BOWL        16   4/18/2011 14:05   \n",
       "214271   SINGLE ANTIQUE ROSE HOOK IVORY        12    6/5/2011 15:36   \n",
       "249667     FAIRY CAKES NOTEBOOK A6 SIZE         3    7/4/2011 16:35   \n",
       "\n",
       "        UnitPrice  CustomerID         Country  \n",
       "297416       0.85     13985.0  United Kingdom  \n",
       "501092       1.95     17920.0  United Kingdom  \n",
       "47030        1.25     13081.0  United Kingdom  \n",
       "375304       1.25     14606.0  United Kingdom  \n",
       "28744        1.25     17371.0  United Kingdom  \n",
       "14951        3.75     12347.0         Iceland  \n",
       "310828       1.65     12540.0           Spain  \n",
       "161742       0.42     13069.0  United Kingdom  \n",
       "214271       1.45     15152.0  United Kingdom  \n",
       "249667       0.65     15555.0  United Kingdom  "
      ],
      "text/html": [
       "<div>\n",
       "<style scoped>\n",
       "    .dataframe tbody tr th:only-of-type {\n",
       "        vertical-align: middle;\n",
       "    }\n",
       "\n",
       "    .dataframe tbody tr th {\n",
       "        vertical-align: top;\n",
       "    }\n",
       "\n",
       "    .dataframe thead th {\n",
       "        text-align: right;\n",
       "    }\n",
       "</style>\n",
       "<table border=\"1\" class=\"dataframe\">\n",
       "  <thead>\n",
       "    <tr style=\"text-align: right;\">\n",
       "      <th></th>\n",
       "      <th>Description</th>\n",
       "      <th>Quantity</th>\n",
       "      <th>InvoiceDate</th>\n",
       "      <th>UnitPrice</th>\n",
       "      <th>CustomerID</th>\n",
       "      <th>Country</th>\n",
       "    </tr>\n",
       "  </thead>\n",
       "  <tbody>\n",
       "    <tr>\n",
       "      <th>297416</th>\n",
       "      <td>RED VINTAGE SPOT BEAKER</td>\n",
       "      <td>8</td>\n",
       "      <td>8/11/2011 9:34</td>\n",
       "      <td>0.85</td>\n",
       "      <td>13985.0</td>\n",
       "      <td>United Kingdom</td>\n",
       "    </tr>\n",
       "    <tr>\n",
       "      <th>501092</th>\n",
       "      <td>CHILDRENS APRON SPACEBOY DESIGN</td>\n",
       "      <td>2</td>\n",
       "      <td>11/25/2011 13:47</td>\n",
       "      <td>1.95</td>\n",
       "      <td>17920.0</td>\n",
       "      <td>United Kingdom</td>\n",
       "    </tr>\n",
       "    <tr>\n",
       "      <th>47030</th>\n",
       "      <td>4 VANILLA BOTANICAL CANDLES</td>\n",
       "      <td>12</td>\n",
       "      <td>1/6/2011 16:41</td>\n",
       "      <td>1.25</td>\n",
       "      <td>13081.0</td>\n",
       "      <td>United Kingdom</td>\n",
       "    </tr>\n",
       "    <tr>\n",
       "      <th>375304</th>\n",
       "      <td>TOAST ITS - BEST MUM</td>\n",
       "      <td>1</td>\n",
       "      <td>10/4/2011 11:29</td>\n",
       "      <td>1.25</td>\n",
       "      <td>14606.0</td>\n",
       "      <td>United Kingdom</td>\n",
       "    </tr>\n",
       "    <tr>\n",
       "      <th>28744</th>\n",
       "      <td>RETRO COFFEE MUGS ASSORTED</td>\n",
       "      <td>30</td>\n",
       "      <td>12/13/2010 15:20</td>\n",
       "      <td>1.25</td>\n",
       "      <td>17371.0</td>\n",
       "      <td>United Kingdom</td>\n",
       "    </tr>\n",
       "    <tr>\n",
       "      <th>14951</th>\n",
       "      <td>ALARM CLOCK BAKELIKE PINK</td>\n",
       "      <td>4</td>\n",
       "      <td>12/7/2010 14:57</td>\n",
       "      <td>3.75</td>\n",
       "      <td>12347.0</td>\n",
       "      <td>Iceland</td>\n",
       "    </tr>\n",
       "    <tr>\n",
       "      <th>310828</th>\n",
       "      <td>RIBBON REEL HEARTS DESIGN</td>\n",
       "      <td>10</td>\n",
       "      <td>8/24/2011 8:09</td>\n",
       "      <td>1.65</td>\n",
       "      <td>12540.0</td>\n",
       "      <td>Spain</td>\n",
       "    </tr>\n",
       "    <tr>\n",
       "      <th>161742</th>\n",
       "      <td>SMALL MARSHMALLOWS PINK BOWL</td>\n",
       "      <td>16</td>\n",
       "      <td>4/18/2011 14:05</td>\n",
       "      <td>0.42</td>\n",
       "      <td>13069.0</td>\n",
       "      <td>United Kingdom</td>\n",
       "    </tr>\n",
       "    <tr>\n",
       "      <th>214271</th>\n",
       "      <td>SINGLE ANTIQUE ROSE HOOK IVORY</td>\n",
       "      <td>12</td>\n",
       "      <td>6/5/2011 15:36</td>\n",
       "      <td>1.45</td>\n",
       "      <td>15152.0</td>\n",
       "      <td>United Kingdom</td>\n",
       "    </tr>\n",
       "    <tr>\n",
       "      <th>249667</th>\n",
       "      <td>FAIRY CAKES NOTEBOOK A6 SIZE</td>\n",
       "      <td>3</td>\n",
       "      <td>7/4/2011 16:35</td>\n",
       "      <td>0.65</td>\n",
       "      <td>15555.0</td>\n",
       "      <td>United Kingdom</td>\n",
       "    </tr>\n",
       "  </tbody>\n",
       "</table>\n",
       "</div>"
      ]
     },
     "execution_count": 31,
     "metadata": {},
     "output_type": "execute_result"
    }
   ],
   "execution_count": 31
  },
  {
   "metadata": {
    "ExecuteTime": {
     "end_time": "2024-08-01T17:34:52.421157Z",
     "start_time": "2024-08-01T17:34:52.361158Z"
    }
   },
   "cell_type": "code",
   "source": "data.describe()",
   "id": "e533e5ee743420e5",
   "outputs": [
    {
     "data": {
      "text/plain": [
       "            Quantity      UnitPrice     CustomerID\n",
       "count  406829.000000  406829.000000  406829.000000\n",
       "mean       12.061303       3.460471   15287.690570\n",
       "std       248.693370      69.315162    1713.600303\n",
       "min    -80995.000000       0.000000   12346.000000\n",
       "25%         2.000000       1.250000   13953.000000\n",
       "50%         5.000000       1.950000   15152.000000\n",
       "75%        12.000000       3.750000   16791.000000\n",
       "max     80995.000000   38970.000000   18287.000000"
      ],
      "text/html": [
       "<div>\n",
       "<style scoped>\n",
       "    .dataframe tbody tr th:only-of-type {\n",
       "        vertical-align: middle;\n",
       "    }\n",
       "\n",
       "    .dataframe tbody tr th {\n",
       "        vertical-align: top;\n",
       "    }\n",
       "\n",
       "    .dataframe thead th {\n",
       "        text-align: right;\n",
       "    }\n",
       "</style>\n",
       "<table border=\"1\" class=\"dataframe\">\n",
       "  <thead>\n",
       "    <tr style=\"text-align: right;\">\n",
       "      <th></th>\n",
       "      <th>Quantity</th>\n",
       "      <th>UnitPrice</th>\n",
       "      <th>CustomerID</th>\n",
       "    </tr>\n",
       "  </thead>\n",
       "  <tbody>\n",
       "    <tr>\n",
       "      <th>count</th>\n",
       "      <td>406829.000000</td>\n",
       "      <td>406829.000000</td>\n",
       "      <td>406829.000000</td>\n",
       "    </tr>\n",
       "    <tr>\n",
       "      <th>mean</th>\n",
       "      <td>12.061303</td>\n",
       "      <td>3.460471</td>\n",
       "      <td>15287.690570</td>\n",
       "    </tr>\n",
       "    <tr>\n",
       "      <th>std</th>\n",
       "      <td>248.693370</td>\n",
       "      <td>69.315162</td>\n",
       "      <td>1713.600303</td>\n",
       "    </tr>\n",
       "    <tr>\n",
       "      <th>min</th>\n",
       "      <td>-80995.000000</td>\n",
       "      <td>0.000000</td>\n",
       "      <td>12346.000000</td>\n",
       "    </tr>\n",
       "    <tr>\n",
       "      <th>25%</th>\n",
       "      <td>2.000000</td>\n",
       "      <td>1.250000</td>\n",
       "      <td>13953.000000</td>\n",
       "    </tr>\n",
       "    <tr>\n",
       "      <th>50%</th>\n",
       "      <td>5.000000</td>\n",
       "      <td>1.950000</td>\n",
       "      <td>15152.000000</td>\n",
       "    </tr>\n",
       "    <tr>\n",
       "      <th>75%</th>\n",
       "      <td>12.000000</td>\n",
       "      <td>3.750000</td>\n",
       "      <td>16791.000000</td>\n",
       "    </tr>\n",
       "    <tr>\n",
       "      <th>max</th>\n",
       "      <td>80995.000000</td>\n",
       "      <td>38970.000000</td>\n",
       "      <td>18287.000000</td>\n",
       "    </tr>\n",
       "  </tbody>\n",
       "</table>\n",
       "</div>"
      ]
     },
     "execution_count": 34,
     "metadata": {},
     "output_type": "execute_result"
    }
   ],
   "execution_count": 34
  },
  {
   "metadata": {
    "ExecuteTime": {
     "end_time": "2024-08-01T17:35:04.912098Z",
     "start_time": "2024-08-01T17:35:04.874102Z"
    }
   },
   "cell_type": "code",
   "source": "data.info()",
   "id": "2fb5f4768058d225",
   "outputs": [
    {
     "name": "stdout",
     "output_type": "stream",
     "text": [
      "<class 'pandas.core.frame.DataFrame'>\n",
      "Index: 406829 entries, 0 to 541908\n",
      "Data columns (total 6 columns):\n",
      " #   Column       Non-Null Count   Dtype  \n",
      "---  ------       --------------   -----  \n",
      " 0   Description  406829 non-null  object \n",
      " 1   Quantity     406829 non-null  int64  \n",
      " 2   InvoiceDate  406829 non-null  object \n",
      " 3   UnitPrice    406829 non-null  float64\n",
      " 4   CustomerID   406829 non-null  float64\n",
      " 5   Country      406829 non-null  object \n",
      "dtypes: float64(2), int64(1), object(3)\n",
      "memory usage: 21.7+ MB\n"
     ]
    }
   ],
   "execution_count": 35
  },
  {
   "metadata": {
    "ExecuteTime": {
     "end_time": "2024-08-01T17:37:11.298344Z",
     "start_time": "2024-08-01T17:37:11.292343Z"
    }
   },
   "cell_type": "code",
   "source": "data.shape",
   "id": "e562cd2aa74a6f7",
   "outputs": [
    {
     "data": {
      "text/plain": [
       "(406829, 6)"
      ]
     },
     "execution_count": 38,
     "metadata": {},
     "output_type": "execute_result"
    }
   ],
   "execution_count": 38
  },
  {
   "metadata": {
    "ExecuteTime": {
     "end_time": "2024-08-01T17:37:31.188520Z",
     "start_time": "2024-08-01T17:37:31.099520Z"
    }
   },
   "cell_type": "code",
   "source": "print(data.nunique())  # Muestra el número de valores únicos en cada columna",
   "id": "610d8e72520b2661",
   "outputs": [
    {
     "name": "stdout",
     "output_type": "stream",
     "text": [
      "Description     3896\n",
      "Quantity         436\n",
      "InvoiceDate    20460\n",
      "UnitPrice        620\n",
      "CustomerID      4372\n",
      "Country           37\n",
      "dtype: int64\n"
     ]
    }
   ],
   "execution_count": 39
  },
  {
   "metadata": {
    "ExecuteTime": {
     "end_time": "2024-08-01T17:37:40.132103Z",
     "start_time": "2024-08-01T17:37:40.094104Z"
    }
   },
   "cell_type": "code",
   "source": "print(data.isnull().sum())  # Cuenta el número de valores faltantes en cada columna\n",
   "id": "b5eec4d28baafdf3",
   "outputs": [
    {
     "name": "stdout",
     "output_type": "stream",
     "text": [
      "Description    0\n",
      "Quantity       0\n",
      "InvoiceDate    0\n",
      "UnitPrice      0\n",
      "CustomerID     0\n",
      "Country        0\n",
      "dtype: int64\n"
     ]
    }
   ],
   "execution_count": 40
  },
  {
   "metadata": {
    "ExecuteTime": {
     "end_time": "2024-08-01T17:37:59.203099Z",
     "start_time": "2024-08-01T17:37:59.098102Z"
    }
   },
   "cell_type": "code",
   "source": "print(data.duplicated().sum())  # Cuenta las filas duplicadas\n",
   "id": "c920be16c353475a",
   "outputs": [
    {
     "name": "stdout",
     "output_type": "stream",
     "text": [
      "5301\n"
     ]
    }
   ],
   "execution_count": 43
  },
  {
   "metadata": {},
   "cell_type": "code",
   "outputs": [],
   "execution_count": null,
   "source": "",
   "id": "913b0ed9211ea79e"
  }
 ],
 "metadata": {
  "kernelspec": {
   "display_name": "Python 3",
   "language": "python",
   "name": "python3"
  },
  "language_info": {
   "codemirror_mode": {
    "name": "ipython",
    "version": 2
   },
   "file_extension": ".py",
   "mimetype": "text/x-python",
   "name": "python",
   "nbconvert_exporter": "python",
   "pygments_lexer": "ipython2",
   "version": "2.7.6"
  }
 },
 "nbformat": 4,
 "nbformat_minor": 5
}
